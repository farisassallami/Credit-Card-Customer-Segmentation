{
 "cells": [
  {
   "cell_type": "code",
   "execution_count": 21,
   "metadata": {
    "ExecuteTime": {
     "end_time": "2023-04-13T13:59:06.566960Z",
     "start_time": "2023-04-13T13:59:05.728884Z"
    },
    "colab": {
     "base_uri": "https://localhost:8080/"
    },
    "id": "YMrNEAFwe_Xp",
    "outputId": "a8ba4e94-dd78-4fed-9299-92f670efbb62"
   },
   "outputs": [],
   "source": [
    "#imports\n",
    "import numpy as np\n",
    "import pandas as pd\n",
    "import matplotlib.pyplot as plt\n",
    "from sklearn.preprocessing import StandardScaler\n",
    "from sklearn.cluster import KMeans\n",
    "from sklearn.metrics import silhouette_score"
   ]
  },
  {
   "cell_type": "code",
   "execution_count": 22,
   "metadata": {
    "ExecuteTime": {
     "end_time": "2023-04-13T13:59:06.572813Z",
     "start_time": "2023-04-13T13:59:06.568011Z"
    },
    "id": "A6yLhheef4Bh"
   },
   "outputs": [
    {
     "data": {
      "text/html": [
       "<div>\n",
       "<style scoped>\n",
       "    .dataframe tbody tr th:only-of-type {\n",
       "        vertical-align: middle;\n",
       "    }\n",
       "\n",
       "    .dataframe tbody tr th {\n",
       "        vertical-align: top;\n",
       "    }\n",
       "\n",
       "    .dataframe thead th {\n",
       "        text-align: right;\n",
       "    }\n",
       "</style>\n",
       "<table border=\"1\" class=\"dataframe\">\n",
       "  <thead>\n",
       "    <tr style=\"text-align: right;\">\n",
       "      <th></th>\n",
       "      <th>Unnamed: 0</th>\n",
       "      <th>Age</th>\n",
       "      <th>Edu</th>\n",
       "      <th>Years Employed</th>\n",
       "      <th>Income</th>\n",
       "      <th>Card Debt</th>\n",
       "      <th>Other Debt</th>\n",
       "      <th>Defaulted</th>\n",
       "      <th>DebtIncomeRatio</th>\n",
       "    </tr>\n",
       "    <tr>\n",
       "      <th>Customer Id</th>\n",
       "      <th></th>\n",
       "      <th></th>\n",
       "      <th></th>\n",
       "      <th></th>\n",
       "      <th></th>\n",
       "      <th></th>\n",
       "      <th></th>\n",
       "      <th></th>\n",
       "      <th></th>\n",
       "    </tr>\n",
       "  </thead>\n",
       "  <tbody>\n",
       "    <tr>\n",
       "      <th>1</th>\n",
       "      <td>0</td>\n",
       "      <td>41</td>\n",
       "      <td>2</td>\n",
       "      <td>6</td>\n",
       "      <td>19</td>\n",
       "      <td>0.124</td>\n",
       "      <td>1.073</td>\n",
       "      <td>0.0</td>\n",
       "      <td>6.3</td>\n",
       "    </tr>\n",
       "    <tr>\n",
       "      <th>2</th>\n",
       "      <td>1</td>\n",
       "      <td>47</td>\n",
       "      <td>1</td>\n",
       "      <td>26</td>\n",
       "      <td>100</td>\n",
       "      <td>4.582</td>\n",
       "      <td>8.218</td>\n",
       "      <td>0.0</td>\n",
       "      <td>12.8</td>\n",
       "    </tr>\n",
       "    <tr>\n",
       "      <th>3</th>\n",
       "      <td>2</td>\n",
       "      <td>33</td>\n",
       "      <td>2</td>\n",
       "      <td>10</td>\n",
       "      <td>57</td>\n",
       "      <td>6.111</td>\n",
       "      <td>5.802</td>\n",
       "      <td>1.0</td>\n",
       "      <td>20.9</td>\n",
       "    </tr>\n",
       "    <tr>\n",
       "      <th>4</th>\n",
       "      <td>3</td>\n",
       "      <td>29</td>\n",
       "      <td>2</td>\n",
       "      <td>4</td>\n",
       "      <td>19</td>\n",
       "      <td>0.681</td>\n",
       "      <td>0.516</td>\n",
       "      <td>0.0</td>\n",
       "      <td>6.3</td>\n",
       "    </tr>\n",
       "    <tr>\n",
       "      <th>5</th>\n",
       "      <td>4</td>\n",
       "      <td>47</td>\n",
       "      <td>1</td>\n",
       "      <td>31</td>\n",
       "      <td>253</td>\n",
       "      <td>9.308</td>\n",
       "      <td>8.908</td>\n",
       "      <td>0.0</td>\n",
       "      <td>7.2</td>\n",
       "    </tr>\n",
       "  </tbody>\n",
       "</table>\n",
       "</div>"
      ],
      "text/plain": [
       "             Unnamed: 0  Age  Edu  Years Employed  Income  Card Debt  \\\n",
       "Customer Id                                                            \n",
       "1                     0   41    2               6      19      0.124   \n",
       "2                     1   47    1              26     100      4.582   \n",
       "3                     2   33    2              10      57      6.111   \n",
       "4                     3   29    2               4      19      0.681   \n",
       "5                     4   47    1              31     253      9.308   \n",
       "\n",
       "             Other Debt  Defaulted  DebtIncomeRatio  \n",
       "Customer Id                                          \n",
       "1                 1.073        0.0              6.3  \n",
       "2                 8.218        0.0             12.8  \n",
       "3                 5.802        1.0             20.9  \n",
       "4                 0.516        0.0              6.3  \n",
       "5                 8.908        0.0              7.2  "
      ]
     },
     "metadata": {},
     "output_type": "display_data"
    },
    {
     "name": "stdout",
     "output_type": "stream",
     "text": [
      "<class 'pandas.core.frame.DataFrame'>\n",
      "Int64Index: 850 entries, 1 to 850\n",
      "Data columns (total 9 columns):\n",
      " #   Column           Non-Null Count  Dtype  \n",
      "---  ------           --------------  -----  \n",
      " 0   Unnamed: 0       850 non-null    int64  \n",
      " 1   Age              850 non-null    int64  \n",
      " 2   Edu              850 non-null    int64  \n",
      " 3   Years Employed   850 non-null    int64  \n",
      " 4   Income           850 non-null    int64  \n",
      " 5   Card Debt        850 non-null    float64\n",
      " 6   Other Debt       850 non-null    float64\n",
      " 7   Defaulted        700 non-null    float64\n",
      " 8   DebtIncomeRatio  850 non-null    float64\n",
      "dtypes: float64(4), int64(5)\n",
      "memory usage: 66.4 KB\n"
     ]
    },
    {
     "data": {
      "text/plain": [
       "None"
      ]
     },
     "metadata": {},
     "output_type": "display_data"
    }
   ],
   "source": [
    "# load the dataset and check for unnecessary columns\n",
    "df = pd.read_csv('/Users/faris/Downloads/cust_seg.csv', index_col = 'Customer Id')\n",
    "display(df.head())\n",
    "display(df.info())"
   ]
  },
  {
   "attachments": {},
   "cell_type": "markdown",
   "metadata": {
    "id": "K-a0dYVUAH2c"
   },
   "source": [
    "# Data Inspection"
   ]
  },
  {
   "cell_type": "code",
   "execution_count": 23,
   "metadata": {
    "ExecuteTime": {
     "end_time": "2023-04-13T13:59:06.590893Z",
     "start_time": "2023-04-13T13:59:06.581513Z"
    },
    "colab": {
     "base_uri": "https://localhost:8080/",
     "height": 250
    },
    "id": "4tDwDLvWg62s",
    "outputId": "c7695246-9176-4838-9027-e19d6c9ff2ce"
   },
   "outputs": [],
   "source": [
    "df.drop(columns='Unnamed: 0', inplace=True)"
   ]
  },
  {
   "cell_type": "code",
   "execution_count": 24,
   "metadata": {},
   "outputs": [
    {
     "data": {
      "text/html": [
       "<div>\n",
       "<style scoped>\n",
       "    .dataframe tbody tr th:only-of-type {\n",
       "        vertical-align: middle;\n",
       "    }\n",
       "\n",
       "    .dataframe tbody tr th {\n",
       "        vertical-align: top;\n",
       "    }\n",
       "\n",
       "    .dataframe thead th {\n",
       "        text-align: right;\n",
       "    }\n",
       "</style>\n",
       "<table border=\"1\" class=\"dataframe\">\n",
       "  <thead>\n",
       "    <tr style=\"text-align: right;\">\n",
       "      <th></th>\n",
       "      <th>Age</th>\n",
       "      <th>Edu</th>\n",
       "      <th>Years Employed</th>\n",
       "      <th>Income</th>\n",
       "      <th>Card Debt</th>\n",
       "      <th>Other Debt</th>\n",
       "      <th>Defaulted</th>\n",
       "      <th>DebtIncomeRatio</th>\n",
       "    </tr>\n",
       "    <tr>\n",
       "      <th>Customer Id</th>\n",
       "      <th></th>\n",
       "      <th></th>\n",
       "      <th></th>\n",
       "      <th></th>\n",
       "      <th></th>\n",
       "      <th></th>\n",
       "      <th></th>\n",
       "      <th></th>\n",
       "    </tr>\n",
       "  </thead>\n",
       "  <tbody>\n",
       "    <tr>\n",
       "      <th>1</th>\n",
       "      <td>41</td>\n",
       "      <td>2</td>\n",
       "      <td>6</td>\n",
       "      <td>19</td>\n",
       "      <td>0.124</td>\n",
       "      <td>1.073</td>\n",
       "      <td>0.0</td>\n",
       "      <td>6.3</td>\n",
       "    </tr>\n",
       "    <tr>\n",
       "      <th>2</th>\n",
       "      <td>47</td>\n",
       "      <td>1</td>\n",
       "      <td>26</td>\n",
       "      <td>100</td>\n",
       "      <td>4.582</td>\n",
       "      <td>8.218</td>\n",
       "      <td>0.0</td>\n",
       "      <td>12.8</td>\n",
       "    </tr>\n",
       "    <tr>\n",
       "      <th>3</th>\n",
       "      <td>33</td>\n",
       "      <td>2</td>\n",
       "      <td>10</td>\n",
       "      <td>57</td>\n",
       "      <td>6.111</td>\n",
       "      <td>5.802</td>\n",
       "      <td>1.0</td>\n",
       "      <td>20.9</td>\n",
       "    </tr>\n",
       "    <tr>\n",
       "      <th>4</th>\n",
       "      <td>29</td>\n",
       "      <td>2</td>\n",
       "      <td>4</td>\n",
       "      <td>19</td>\n",
       "      <td>0.681</td>\n",
       "      <td>0.516</td>\n",
       "      <td>0.0</td>\n",
       "      <td>6.3</td>\n",
       "    </tr>\n",
       "    <tr>\n",
       "      <th>5</th>\n",
       "      <td>47</td>\n",
       "      <td>1</td>\n",
       "      <td>31</td>\n",
       "      <td>253</td>\n",
       "      <td>9.308</td>\n",
       "      <td>8.908</td>\n",
       "      <td>0.0</td>\n",
       "      <td>7.2</td>\n",
       "    </tr>\n",
       "  </tbody>\n",
       "</table>\n",
       "</div>"
      ],
      "text/plain": [
       "             Age  Edu  Years Employed  Income  Card Debt  Other Debt  \\\n",
       "Customer Id                                                            \n",
       "1             41    2               6      19      0.124       1.073   \n",
       "2             47    1              26     100      4.582       8.218   \n",
       "3             33    2              10      57      6.111       5.802   \n",
       "4             29    2               4      19      0.681       0.516   \n",
       "5             47    1              31     253      9.308       8.908   \n",
       "\n",
       "             Defaulted  DebtIncomeRatio  \n",
       "Customer Id                              \n",
       "1                  0.0              6.3  \n",
       "2                  0.0             12.8  \n",
       "3                  1.0             20.9  \n",
       "4                  0.0              6.3  \n",
       "5                  0.0              7.2  "
      ]
     },
     "execution_count": 24,
     "metadata": {},
     "output_type": "execute_result"
    }
   ],
   "source": [
    "df.head()"
   ]
  },
  {
   "attachments": {},
   "cell_type": "markdown",
   "metadata": {
    "id": "tY41d3_-AuIm"
   },
   "source": [
    "## Checking for duplicate rows"
   ]
  },
  {
   "cell_type": "code",
   "execution_count": 25,
   "metadata": {
    "ExecuteTime": {
     "end_time": "2023-04-13T13:59:06.603215Z",
     "start_time": "2023-04-13T13:59:06.599099Z"
    },
    "colab": {
     "base_uri": "https://localhost:8080/"
    },
    "id": "R0Nktm6WhXig",
    "outputId": "5a900e29-c15d-4760-a54f-74c2b9b10133"
   },
   "outputs": [
    {
     "name": "stdout",
     "output_type": "stream",
     "text": [
      "There are 0 duplicate rows.\n"
     ]
    }
   ],
   "source": [
    "# We will check for duplicate rows and delete them.\n",
    "dup = df.duplicated().sum()\n",
    "print(f'There are {dup} duplicate rows.')"
   ]
  },
  {
   "attachments": {},
   "cell_type": "markdown",
   "metadata": {},
   "source": [
    "## Checking for outliers and obvious errors"
   ]
  },
  {
   "cell_type": "code",
   "execution_count": 26,
   "metadata": {},
   "outputs": [
    {
     "data": {
      "text/html": [
       "<div>\n",
       "<style scoped>\n",
       "    .dataframe tbody tr th:only-of-type {\n",
       "        vertical-align: middle;\n",
       "    }\n",
       "\n",
       "    .dataframe tbody tr th {\n",
       "        vertical-align: top;\n",
       "    }\n",
       "\n",
       "    .dataframe thead th {\n",
       "        text-align: right;\n",
       "    }\n",
       "</style>\n",
       "<table border=\"1\" class=\"dataframe\">\n",
       "  <thead>\n",
       "    <tr style=\"text-align: right;\">\n",
       "      <th></th>\n",
       "      <th>Age</th>\n",
       "      <th>Edu</th>\n",
       "      <th>Years Employed</th>\n",
       "      <th>Income</th>\n",
       "      <th>Card Debt</th>\n",
       "      <th>Other Debt</th>\n",
       "      <th>Defaulted</th>\n",
       "      <th>DebtIncomeRatio</th>\n",
       "    </tr>\n",
       "  </thead>\n",
       "  <tbody>\n",
       "    <tr>\n",
       "      <th>count</th>\n",
       "      <td>850.000000</td>\n",
       "      <td>850.000000</td>\n",
       "      <td>850.000000</td>\n",
       "      <td>850.000000</td>\n",
       "      <td>850.000000</td>\n",
       "      <td>850.000000</td>\n",
       "      <td>700.000000</td>\n",
       "      <td>850.000000</td>\n",
       "    </tr>\n",
       "    <tr>\n",
       "      <th>mean</th>\n",
       "      <td>35.029412</td>\n",
       "      <td>1.710588</td>\n",
       "      <td>8.565882</td>\n",
       "      <td>46.675294</td>\n",
       "      <td>1.576820</td>\n",
       "      <td>3.078773</td>\n",
       "      <td>0.261429</td>\n",
       "      <td>10.171647</td>\n",
       "    </tr>\n",
       "    <tr>\n",
       "      <th>std</th>\n",
       "      <td>8.041432</td>\n",
       "      <td>0.927784</td>\n",
       "      <td>6.777884</td>\n",
       "      <td>38.543054</td>\n",
       "      <td>2.125843</td>\n",
       "      <td>3.398799</td>\n",
       "      <td>0.439727</td>\n",
       "      <td>6.719441</td>\n",
       "    </tr>\n",
       "    <tr>\n",
       "      <th>min</th>\n",
       "      <td>20.000000</td>\n",
       "      <td>1.000000</td>\n",
       "      <td>0.000000</td>\n",
       "      <td>13.000000</td>\n",
       "      <td>0.012000</td>\n",
       "      <td>0.046000</td>\n",
       "      <td>0.000000</td>\n",
       "      <td>0.100000</td>\n",
       "    </tr>\n",
       "    <tr>\n",
       "      <th>25%</th>\n",
       "      <td>29.000000</td>\n",
       "      <td>1.000000</td>\n",
       "      <td>3.000000</td>\n",
       "      <td>24.000000</td>\n",
       "      <td>0.382500</td>\n",
       "      <td>1.045750</td>\n",
       "      <td>0.000000</td>\n",
       "      <td>5.100000</td>\n",
       "    </tr>\n",
       "    <tr>\n",
       "      <th>50%</th>\n",
       "      <td>34.000000</td>\n",
       "      <td>1.000000</td>\n",
       "      <td>7.000000</td>\n",
       "      <td>35.000000</td>\n",
       "      <td>0.885000</td>\n",
       "      <td>2.003000</td>\n",
       "      <td>0.000000</td>\n",
       "      <td>8.700000</td>\n",
       "    </tr>\n",
       "    <tr>\n",
       "      <th>75%</th>\n",
       "      <td>41.000000</td>\n",
       "      <td>2.000000</td>\n",
       "      <td>13.000000</td>\n",
       "      <td>55.750000</td>\n",
       "      <td>1.898500</td>\n",
       "      <td>3.903250</td>\n",
       "      <td>1.000000</td>\n",
       "      <td>13.800000</td>\n",
       "    </tr>\n",
       "    <tr>\n",
       "      <th>max</th>\n",
       "      <td>56.000000</td>\n",
       "      <td>5.000000</td>\n",
       "      <td>33.000000</td>\n",
       "      <td>446.000000</td>\n",
       "      <td>20.561000</td>\n",
       "      <td>35.197000</td>\n",
       "      <td>1.000000</td>\n",
       "      <td>41.300000</td>\n",
       "    </tr>\n",
       "  </tbody>\n",
       "</table>\n",
       "</div>"
      ],
      "text/plain": [
       "              Age         Edu  Years Employed      Income   Card Debt  \\\n",
       "count  850.000000  850.000000      850.000000  850.000000  850.000000   \n",
       "mean    35.029412    1.710588        8.565882   46.675294    1.576820   \n",
       "std      8.041432    0.927784        6.777884   38.543054    2.125843   \n",
       "min     20.000000    1.000000        0.000000   13.000000    0.012000   \n",
       "25%     29.000000    1.000000        3.000000   24.000000    0.382500   \n",
       "50%     34.000000    1.000000        7.000000   35.000000    0.885000   \n",
       "75%     41.000000    2.000000       13.000000   55.750000    1.898500   \n",
       "max     56.000000    5.000000       33.000000  446.000000   20.561000   \n",
       "\n",
       "       Other Debt   Defaulted  DebtIncomeRatio  \n",
       "count  850.000000  700.000000       850.000000  \n",
       "mean     3.078773    0.261429        10.171647  \n",
       "std      3.398799    0.439727         6.719441  \n",
       "min      0.046000    0.000000         0.100000  \n",
       "25%      1.045750    0.000000         5.100000  \n",
       "50%      2.003000    0.000000         8.700000  \n",
       "75%      3.903250    1.000000        13.800000  \n",
       "max     35.197000    1.000000        41.300000  "
      ]
     },
     "execution_count": 26,
     "metadata": {},
     "output_type": "execute_result"
    }
   ],
   "source": [
    "df.describe()"
   ]
  },
  {
   "attachments": {},
   "cell_type": "markdown",
   "metadata": {},
   "source": [
    "## Creating Total Debt feature by combining card debt and other debt columns"
   ]
  },
  {
   "cell_type": "code",
   "execution_count": 27,
   "metadata": {},
   "outputs": [
    {
     "data": {
      "text/html": [
       "<div>\n",
       "<style scoped>\n",
       "    .dataframe tbody tr th:only-of-type {\n",
       "        vertical-align: middle;\n",
       "    }\n",
       "\n",
       "    .dataframe tbody tr th {\n",
       "        vertical-align: top;\n",
       "    }\n",
       "\n",
       "    .dataframe thead th {\n",
       "        text-align: right;\n",
       "    }\n",
       "</style>\n",
       "<table border=\"1\" class=\"dataframe\">\n",
       "  <thead>\n",
       "    <tr style=\"text-align: right;\">\n",
       "      <th></th>\n",
       "      <th>Age</th>\n",
       "      <th>Edu</th>\n",
       "      <th>Years Employed</th>\n",
       "      <th>Income</th>\n",
       "      <th>Defaulted</th>\n",
       "      <th>DebtIncomeRatio</th>\n",
       "      <th>Total Debt</th>\n",
       "    </tr>\n",
       "    <tr>\n",
       "      <th>Customer Id</th>\n",
       "      <th></th>\n",
       "      <th></th>\n",
       "      <th></th>\n",
       "      <th></th>\n",
       "      <th></th>\n",
       "      <th></th>\n",
       "      <th></th>\n",
       "    </tr>\n",
       "  </thead>\n",
       "  <tbody>\n",
       "    <tr>\n",
       "      <th>1</th>\n",
       "      <td>41</td>\n",
       "      <td>2</td>\n",
       "      <td>6</td>\n",
       "      <td>19</td>\n",
       "      <td>0.0</td>\n",
       "      <td>6.3</td>\n",
       "      <td>1.197</td>\n",
       "    </tr>\n",
       "    <tr>\n",
       "      <th>2</th>\n",
       "      <td>47</td>\n",
       "      <td>1</td>\n",
       "      <td>26</td>\n",
       "      <td>100</td>\n",
       "      <td>0.0</td>\n",
       "      <td>12.8</td>\n",
       "      <td>12.800</td>\n",
       "    </tr>\n",
       "    <tr>\n",
       "      <th>3</th>\n",
       "      <td>33</td>\n",
       "      <td>2</td>\n",
       "      <td>10</td>\n",
       "      <td>57</td>\n",
       "      <td>1.0</td>\n",
       "      <td>20.9</td>\n",
       "      <td>11.913</td>\n",
       "    </tr>\n",
       "    <tr>\n",
       "      <th>4</th>\n",
       "      <td>29</td>\n",
       "      <td>2</td>\n",
       "      <td>4</td>\n",
       "      <td>19</td>\n",
       "      <td>0.0</td>\n",
       "      <td>6.3</td>\n",
       "      <td>1.197</td>\n",
       "    </tr>\n",
       "    <tr>\n",
       "      <th>5</th>\n",
       "      <td>47</td>\n",
       "      <td>1</td>\n",
       "      <td>31</td>\n",
       "      <td>253</td>\n",
       "      <td>0.0</td>\n",
       "      <td>7.2</td>\n",
       "      <td>18.216</td>\n",
       "    </tr>\n",
       "  </tbody>\n",
       "</table>\n",
       "</div>"
      ],
      "text/plain": [
       "             Age  Edu  Years Employed  Income  Defaulted  DebtIncomeRatio  \\\n",
       "Customer Id                                                                 \n",
       "1             41    2               6      19        0.0              6.3   \n",
       "2             47    1              26     100        0.0             12.8   \n",
       "3             33    2              10      57        1.0             20.9   \n",
       "4             29    2               4      19        0.0              6.3   \n",
       "5             47    1              31     253        0.0              7.2   \n",
       "\n",
       "             Total Debt  \n",
       "Customer Id              \n",
       "1                 1.197  \n",
       "2                12.800  \n",
       "3                11.913  \n",
       "4                 1.197  \n",
       "5                18.216  "
      ]
     },
     "execution_count": 27,
     "metadata": {},
     "output_type": "execute_result"
    }
   ],
   "source": [
    "df['Total Debt'] = df['Card Debt'] + df['Other Debt']\n",
    "\n",
    "df.drop(columns= ['Card Debt', 'Other Debt'], inplace=True)\n",
    "\n",
    "df.head()"
   ]
  },
  {
   "attachments": {},
   "cell_type": "markdown",
   "metadata": {},
   "source": [
    "## Checking for missing values\n"
   ]
  },
  {
   "cell_type": "code",
   "execution_count": 28,
   "metadata": {},
   "outputs": [
    {
     "data": {
      "text/plain": [
       "Age                  0\n",
       "Edu                  0\n",
       "Years Employed       0\n",
       "Income               0\n",
       "Defaulted          150\n",
       "DebtIncomeRatio      0\n",
       "Total Debt           0\n",
       "dtype: int64"
      ]
     },
     "execution_count": 28,
     "metadata": {},
     "output_type": "execute_result"
    }
   ],
   "source": [
    "df.isna().sum()"
   ]
  },
  {
   "attachments": {},
   "cell_type": "markdown",
   "metadata": {},
   "source": [
    "There are 150 missing values in Defaulted.\n",
    "- Options:\n",
    "    - Dropping rows was not a good option because 17.65% of rows are missing data--too many (>2%) to just eliminate.\n",
    "    - Dropping columns was not a good option because whether they defaulted might be an import property for clustering--additionally, it is one of the properties specifically requested by the company.   Also, <50% of the data are missing, too little to just eliminate.\n",
    "    - Creating a new category was not a good option because it would introduce errors that might skew the clusters.\n",
    "    - Imputing the most frequent value was a good option because the most frequent value is most likely the value closest to the missing values."
   ]
  },
  {
   "attachments": {},
   "cell_type": "markdown",
   "metadata": {},
   "source": [
    "## Getting mode of Defaulted feature and imputing it to missing data"
   ]
  },
  {
   "cell_type": "code",
   "execution_count": 29,
   "metadata": {},
   "outputs": [
    {
     "data": {
      "text/plain": [
       "0    0.0\n",
       "Name: Defaulted, dtype: float64"
      ]
     },
     "execution_count": 29,
     "metadata": {},
     "output_type": "execute_result"
    }
   ],
   "source": [
    "mode = df['Defaulted'].mode()\n",
    "mode"
   ]
  },
  {
   "cell_type": "code",
   "execution_count": 30,
   "metadata": {},
   "outputs": [
    {
     "data": {
      "text/plain": [
       "Age                0\n",
       "Edu                0\n",
       "Years Employed     0\n",
       "Income             0\n",
       "Defaulted          0\n",
       "DebtIncomeRatio    0\n",
       "Total Debt         0\n",
       "dtype: int64"
      ]
     },
     "execution_count": 30,
     "metadata": {},
     "output_type": "execute_result"
    }
   ],
   "source": [
    "\n",
    "df['Defaulted'].fillna(0.0, inplace=True)\n",
    "df.isna().sum()"
   ]
  },
  {
   "attachments": {},
   "cell_type": "markdown",
   "metadata": {},
   "source": [
    "## Scaling the data"
   ]
  },
  {
   "cell_type": "code",
   "execution_count": 31,
   "metadata": {},
   "outputs": [],
   "source": [
    "# Initiating standard scaler\n",
    "scaler = StandardScaler()\n",
    "\n",
    "# Fitting and transforming data\n",
    "scaled_df = scaler.fit_transform(df)"
   ]
  },
  {
   "attachments": {},
   "cell_type": "markdown",
   "metadata": {},
   "source": [
    "## KMeans Clustering"
   ]
  },
  {
   "attachments": {},
   "cell_type": "markdown",
   "metadata": {},
   "source": [
    "### Elbow plot of inertia"
   ]
  },
  {
   "cell_type": "code",
   "execution_count": 32,
   "metadata": {},
   "outputs": [
    {
     "data": {
      "image/png": "[encoded data removed]",
      "text/plain": [
       "<Figure size 640x480 with 1 Axes>"
      ]
     },
     "metadata": {},
     "output_type": "display_data"
    }
   ],
   "source": [
    "# Creating an empty list of inertias\n",
    "inertias = []\n",
    "# Looping through k values between 2 and 10 and store the inertias in the list\n",
    "for k in range(2, 11):\n",
    "  kmeans = KMeans(n_clusters = k, random_state=42)\n",
    "  kmeans.fit(scaled_df)\n",
    "  inertias.append(kmeans.inertia_)\n",
    "# Visualizing scores\n",
    "plt.plot(range(2, 11), inertias, marker = '.')\n",
    "plt.xlabel('Number of Clusters')\n",
    "plt.ylabel('Inertia');"
   ]
  },
  {
   "attachments": {},
   "cell_type": "markdown",
   "metadata": {},
   "source": [
    "The inertia plot does not have a very pronounced elbow at any number, but the graph seems to level off a bit at 4 clusters. 4 would be one candidate for a good number of clusters.\n"
   ]
  },
  {
   "attachments": {},
   "cell_type": "markdown",
   "metadata": {},
   "source": [
    "## Silhouette scores"
   ]
  },
  {
   "cell_type": "code",
   "execution_count": 33,
   "metadata": {},
   "outputs": [
    {
     "data": {
      "image/png": "[encoded data removed]",
      "text/plain": [
       "<Figure size 640x480 with 1 Axes>"
      ]
     },
     "metadata": {},
     "output_type": "display_data"
    }
   ],
   "source": [
    "# Saving silhouette scores for various cluster numbers in list\n",
    "silhouette_scores = []\n",
    "for i in range(2, 11):\n",
    "  kmeans = KMeans(n_clusters = i, random_state=42)\n",
    "  kmeans.fit(scaled_df)\n",
    "  silhouette_scores.append(silhouette_score(scaled_df, kmeans.labels_))\n",
    "# Visualizing scores\n",
    "plt.plot(range(2, 11), silhouette_scores, marker = '.')\n",
    "plt.xlabel('Number of Clusters')\n",
    "plt.ylabel('Silhouette Score');"
   ]
  },
  {
   "attachments": {},
   "cell_type": "markdown",
   "metadata": {},
   "source": [
    "- The graph shows that 3 would be another candidate for a good number of clusters since it has the highest Silhouette Score.\n"
   ]
  },
  {
   "attachments": {},
   "cell_type": "markdown",
   "metadata": {},
   "source": [
    "## Fitting 2 different KMeans models (one with 3 clusters and one with 4 clusters)"
   ]
  },
  {
   "cell_type": "code",
   "execution_count": 34,
   "metadata": {},
   "outputs": [
    {
     "name": "stdout",
     "output_type": "stream",
     "text": [
      "Silhouette Score using 3 clusters: 0.29\n",
      "Silhouette Score using 4 clusters: 0.24\n"
     ]
    }
   ],
   "source": [
    "\n",
    "# instantiate two different KMeans models using 2 clusters and 4 clusters\n",
    "kmeans3 = KMeans(n_clusters = 3, random_state=42)\n",
    "kmeans4 = KMeans(n_clusters = 4, random_state=42)\n",
    "# fit the models\n",
    "kmeans3.fit(scaled_df)\n",
    "kmeans4.fit(scaled_df)\n",
    "# display the silhouette scores\n",
    "print(f'Silhouette Score using 3 clusters: {silhouette_score(scaled_df, kmeans3.labels_).round(2)}')\n",
    "print(f'Silhouette Score using 4 clusters: {silhouette_score(scaled_df, kmeans4.labels_).round(2)}')"
   ]
  },
  {
   "attachments": {},
   "cell_type": "markdown",
   "metadata": {},
   "source": [
    "## Saving the final KMeans Clustering Model"
   ]
  },
  {
   "cell_type": "code",
   "execution_count": 35,
   "metadata": {},
   "outputs": [
    {
     "data": {
      "text/html": [
       "<div>\n",
       "<style scoped>\n",
       "    .dataframe tbody tr th:only-of-type {\n",
       "        vertical-align: middle;\n",
       "    }\n",
       "\n",
       "    .dataframe tbody tr th {\n",
       "        vertical-align: top;\n",
       "    }\n",
       "\n",
       "    .dataframe thead th {\n",
       "        text-align: right;\n",
       "    }\n",
       "</style>\n",
       "<table border=\"1\" class=\"dataframe\">\n",
       "  <thead>\n",
       "    <tr style=\"text-align: right;\">\n",
       "      <th></th>\n",
       "      <th>Age</th>\n",
       "      <th>Edu</th>\n",
       "      <th>Years Employed</th>\n",
       "      <th>Income</th>\n",
       "      <th>Defaulted</th>\n",
       "      <th>DebtIncomeRatio</th>\n",
       "      <th>Total Debt</th>\n",
       "      <th>cluster</th>\n",
       "    </tr>\n",
       "    <tr>\n",
       "      <th>Customer Id</th>\n",
       "      <th></th>\n",
       "      <th></th>\n",
       "      <th></th>\n",
       "      <th></th>\n",
       "      <th></th>\n",
       "      <th></th>\n",
       "      <th></th>\n",
       "      <th></th>\n",
       "    </tr>\n",
       "  </thead>\n",
       "  <tbody>\n",
       "    <tr>\n",
       "      <th>1</th>\n",
       "      <td>41</td>\n",
       "      <td>2</td>\n",
       "      <td>6</td>\n",
       "      <td>19</td>\n",
       "      <td>0.0</td>\n",
       "      <td>6.3</td>\n",
       "      <td>1.197</td>\n",
       "      <td>0</td>\n",
       "    </tr>\n",
       "    <tr>\n",
       "      <th>2</th>\n",
       "      <td>47</td>\n",
       "      <td>1</td>\n",
       "      <td>26</td>\n",
       "      <td>100</td>\n",
       "      <td>0.0</td>\n",
       "      <td>12.8</td>\n",
       "      <td>12.800</td>\n",
       "      <td>1</td>\n",
       "    </tr>\n",
       "    <tr>\n",
       "      <th>3</th>\n",
       "      <td>33</td>\n",
       "      <td>2</td>\n",
       "      <td>10</td>\n",
       "      <td>57</td>\n",
       "      <td>1.0</td>\n",
       "      <td>20.9</td>\n",
       "      <td>11.913</td>\n",
       "      <td>2</td>\n",
       "    </tr>\n",
       "    <tr>\n",
       "      <th>4</th>\n",
       "      <td>29</td>\n",
       "      <td>2</td>\n",
       "      <td>4</td>\n",
       "      <td>19</td>\n",
       "      <td>0.0</td>\n",
       "      <td>6.3</td>\n",
       "      <td>1.197</td>\n",
       "      <td>0</td>\n",
       "    </tr>\n",
       "    <tr>\n",
       "      <th>5</th>\n",
       "      <td>47</td>\n",
       "      <td>1</td>\n",
       "      <td>31</td>\n",
       "      <td>253</td>\n",
       "      <td>0.0</td>\n",
       "      <td>7.2</td>\n",
       "      <td>18.216</td>\n",
       "      <td>1</td>\n",
       "    </tr>\n",
       "  </tbody>\n",
       "</table>\n",
       "</div>"
      ],
      "text/plain": [
       "             Age  Edu  Years Employed  Income  Defaulted  DebtIncomeRatio  \\\n",
       "Customer Id                                                                 \n",
       "1             41    2               6      19        0.0              6.3   \n",
       "2             47    1              26     100        0.0             12.8   \n",
       "3             33    2              10      57        1.0             20.9   \n",
       "4             29    2               4      19        0.0              6.3   \n",
       "5             47    1              31     253        0.0              7.2   \n",
       "\n",
       "             Total Debt  cluster  \n",
       "Customer Id                       \n",
       "1                 1.197        0  \n",
       "2                12.800        1  \n",
       "3                11.913        2  \n",
       "4                 1.197        0  \n",
       "5                18.216        1  "
      ]
     },
     "execution_count": 35,
     "metadata": {},
     "output_type": "execute_result"
    }
   ],
   "source": [
    "# Adding the clusters as a new column in the original unscaled data frame\n",
    "df['cluster'] = kmeans3.labels_\n",
    "df.head()"
   ]
  },
  {
   "attachments": {},
   "cell_type": "markdown",
   "metadata": {},
   "source": [
    "## Analytical Visualizations"
   ]
  },
  {
   "cell_type": "code",
   "execution_count": 36,
   "metadata": {},
   "outputs": [
    {
     "data": {
      "text/html": [
       "<div>\n",
       "<style scoped>\n",
       "    .dataframe tbody tr th:only-of-type {\n",
       "        vertical-align: middle;\n",
       "    }\n",
       "\n",
       "    .dataframe tbody tr th {\n",
       "        vertical-align: top;\n",
       "    }\n",
       "\n",
       "    .dataframe thead th {\n",
       "        text-align: right;\n",
       "    }\n",
       "</style>\n",
       "<table border=\"1\" class=\"dataframe\">\n",
       "  <thead>\n",
       "    <tr style=\"text-align: right;\">\n",
       "      <th></th>\n",
       "      <th>cluster</th>\n",
       "      <th>Age</th>\n",
       "      <th>Edu</th>\n",
       "      <th>Years Employed</th>\n",
       "      <th>Income</th>\n",
       "      <th>Defaulted</th>\n",
       "      <th>DebtIncomeRatio</th>\n",
       "      <th>Total Debt</th>\n",
       "    </tr>\n",
       "  </thead>\n",
       "  <tbody>\n",
       "    <tr>\n",
       "      <th>0</th>\n",
       "      <td>0</td>\n",
       "      <td>33.324952</td>\n",
       "      <td>1.599613</td>\n",
       "      <td>7.172147</td>\n",
       "      <td>34.833656</td>\n",
       "      <td>0.000000</td>\n",
       "      <td>8.110058</td>\n",
       "      <td>2.684012</td>\n",
       "    </tr>\n",
       "    <tr>\n",
       "      <th>1</th>\n",
       "      <td>1</td>\n",
       "      <td>43.808642</td>\n",
       "      <td>1.888889</td>\n",
       "      <td>17.709877</td>\n",
       "      <td>99.296296</td>\n",
       "      <td>0.098765</td>\n",
       "      <td>12.318519</td>\n",
       "      <td>10.842222</td>\n",
       "    </tr>\n",
       "    <tr>\n",
       "      <th>2</th>\n",
       "      <td>2</td>\n",
       "      <td>31.865497</td>\n",
       "      <td>1.877193</td>\n",
       "      <td>4.116959</td>\n",
       "      <td>32.625731</td>\n",
       "      <td>0.976608</td>\n",
       "      <td>14.370760</td>\n",
       "      <td>4.755439</td>\n",
       "    </tr>\n",
       "  </tbody>\n",
       "</table>\n",
       "</div>"
      ],
      "text/plain": [
       "   cluster        Age       Edu  Years Employed     Income  Defaulted  \\\n",
       "0        0  33.324952  1.599613        7.172147  34.833656   0.000000   \n",
       "1        1  43.808642  1.888889       17.709877  99.296296   0.098765   \n",
       "2        2  31.865497  1.877193        4.116959  32.625731   0.976608   \n",
       "\n",
       "   DebtIncomeRatio  Total Debt  \n",
       "0         8.110058    2.684012  \n",
       "1        12.318519   10.842222  \n",
       "2        14.370760    4.755439  "
      ]
     },
     "execution_count": 36,
     "metadata": {},
     "output_type": "execute_result"
    }
   ],
   "source": [
    "# Grouping the dataframe by cluster and aggregate by mean values\n",
    "cluster_groups = df.groupby('cluster', as_index = False).mean()\n",
    "cluster_groups"
   ]
  },
  {
   "attachments": {},
   "cell_type": "markdown",
   "metadata": {},
   "source": [
    "## Visualizing the means"
   ]
  },
  {
   "cell_type": "code",
   "execution_count": 43,
   "metadata": {},
   "outputs": [
    {
     "data": {
      "image/png": "[encoded data removed]",
      "text/plain": [
       "<Figure size 2000x1000 with 8 Axes>"
      ]
     },
     "metadata": {},
     "output_type": "display_data"
    }
   ],
   "source": [
    "\n",
    "# Visualizing the means\n",
    "fig, axes = plt.subplots(2, 4, figsize = (20, 10))\n",
    "axes = axes.ravel()\n",
    "#loop over columns (except 'cluster') and plot each in a separate figure\n",
    "for i, col in enumerate(cluster_groups.columns[1:]):\n",
    "  axes[i].bar(cluster_groups['cluster'], cluster_groups[col])\n",
    "  axes[i].set_title(f'Mean {col}')"
   ]
  },
  {
   "attachments": {},
   "cell_type": "markdown",
   "metadata": {},
   "source": []
  }
 ],
 "metadata": {
  "colab": {
   "provenance": []
  },
  "kernelspec": {
   "display_name": "dojo-env",
   "language": "python",
   "name": "python3"
  },
  "language_info": {
   "codemirror_mode": {
    "name": "ipython",
    "version": 3
   },
   "file_extension": ".py",
   "mimetype": "text/x-python",
   "name": "python",
   "nbconvert_exporter": "python",
   "pygments_lexer": "ipython3",
   "version": "3.9.15"
  },
  "toc": {
   "base_numbering": 1,
   "nav_menu": {},
   "number_sections": false,
   "sideBar": true,
   "skip_h1_title": false,
   "title_cell": "Table of Contents",
   "title_sidebar": "Contents",
   "toc_cell": false,
   "toc_position": {},
   "toc_section_display": true,
   "toc_window_display": false
  }
 },
 "nbformat": 4,
 "nbformat_minor": 1
}
